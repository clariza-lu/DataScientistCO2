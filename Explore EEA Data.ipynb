{
 "cells": [
  {
   "cell_type": "markdown",
   "metadata": {},
   "source": [
    "# Import Required Libraries\n",
    "Import necessary libraries such as os, pandas, and json."
   ]
  },
  {
   "cell_type": "code",
   "execution_count": 2,
   "metadata": {},
   "outputs": [],
   "source": [
    "# Import necessary libraries\n",
    "import os  # For file and directory operations\n",
    "import pandas as pd  # For handling CSV and Excel files\n",
    "import json  # For working with JSON files"
   ]
  },
  {
   "cell_type": "markdown",
   "metadata": {},
   "source": [
    "# Specify File Path\n",
    "Define the file path for the file you want to load."
   ]
  },
  {
   "cell_type": "code",
   "execution_count": 7,
   "metadata": {},
   "outputs": [
    {
     "name": "stdout",
     "output_type": "stream",
     "text": [
      "File not found: data\\eea\\AT10-23F.csv\n"
     ]
    }
   ],
   "source": [
    "# Define the file path for the file you want to load\n",
    "file_path = \"data\\eea\\AT10-23F.csv\"  # Replace with the actual file path\n",
    "\n",
    "# Check if the file exists\n",
    "if os.path.exists(file_path):\n",
    "    print(f\"File found: {file_path}\")\n",
    "else:\n",
    "    print(f\"File not found: {file_path}\")"
   ]
  },
  {
   "cell_type": "markdown",
   "metadata": {},
   "source": [
    "# Load Text File\n",
    "Use Python's built-in open() function to read the contents of a text file."
   ]
  },
  {
   "cell_type": "code",
   "execution_count": null,
   "metadata": {},
   "outputs": [],
   "source": [
    "# Load Text File\n",
    "if file_path.endswith(\".txt\"):  # Check if the file is a text file\n",
    "    with open(file_path, \"r\") as file:  # Open the file in read mode\n",
    "        text_content = file.read()  # Read the entire content of the file\n",
    "    print(\"Contents of the text file:\")\n",
    "    print(text_content)  # Print the content of the text file\n",
    "else:\n",
    "    print(\"The specified file is not a text file.\")  # Inform the user if the file is not a text file"
   ]
  },
  {
   "cell_type": "markdown",
   "metadata": {},
   "source": [
    "# Load CSV File\n",
    "Use pandas' read_csv() function to load and display the contents of a CSV file."
   ]
  },
  {
   "cell_type": "code",
   "execution_count": null,
   "metadata": {},
   "outputs": [],
   "source": [
    "# Load CSV File\n",
    "if file_path.endswith(\".csv\"):  # Check if the file is a CSV file\n",
    "    try:\n",
    "        csv_data = pd.read_csv(file_path)  # Load the CSV file into a DataFrame\n",
    "        print(\"Contents of the CSV file:\")\n",
    "        print(csv_data)  # Display the contents of the DataFrame\n",
    "    except Exception as e:\n",
    "        print(f\"An error occurred while loading the CSV file: {e}\")  # Handle any errors during file loading\n",
    "else:\n",
    "    print(\"The specified file is not a CSV file.\")  # Inform the user if the file is not a CSV file"
   ]
  },
  {
   "cell_type": "markdown",
   "metadata": {},
   "source": [
    "# Load JSON File\n",
    "Use the json library to load and parse the contents of a JSON file."
   ]
  },
  {
   "cell_type": "code",
   "execution_count": null,
   "metadata": {},
   "outputs": [],
   "source": [
    "# Load JSON File\n",
    "if file_path.endswith(\".json\"):  # Check if the file is a JSON file\n",
    "    try:\n",
    "        with open(file_path, \"r\") as file:  # Open the file in read mode\n",
    "            json_data = json.load(file)  # Parse the JSON file\n",
    "        print(\"Contents of the JSON file:\")\n",
    "        print(json.dumps(json_data, indent=4))  # Pretty-print the JSON data\n",
    "    except Exception as e:\n",
    "        print(f\"An error occurred while loading the JSON file: {e}\")  # Handle any errors during file loading\n",
    "else:\n",
    "    print(\"The specified file is not a JSON file.\")  # Inform the user if the file is not a JSON file"
   ]
  }
 ],
 "metadata": {
  "kernelspec": {
   "display_name": "Python 3",
   "language": "python",
   "name": "python3"
  },
  "language_info": {
   "codemirror_mode": {
    "name": "ipython",
    "version": 3
   },
   "file_extension": ".py",
   "mimetype": "text/x-python",
   "name": "python",
   "nbconvert_exporter": "python",
   "pygments_lexer": "ipython3",
   "version": "3.undefined.undefined"
  }
 },
 "nbformat": 4,
 "nbformat_minor": 2
}
